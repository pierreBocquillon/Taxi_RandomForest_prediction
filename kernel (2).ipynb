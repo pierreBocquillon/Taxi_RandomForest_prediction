{
  "cells": [
    {
      "metadata": {
        "_uuid": "8f2839f25d086af736a60e9eeb907d3b93b6e0e5",
        "_cell_guid": "b1076dfc-b9ad-4769-8c92-a6c4dae69d19",
        "trusted": true
      },
      "cell_type": "code",
      "source": "# This Python 3 environment comes with many helpful analytics libraries installed\n# It is defined by the kaggle/python docker image: https://github.com/kaggle/docker-python\n# For example, here's several helpful packages to load in \n\nimport numpy as np # linear algebra\nimport pandas as pd # data processing, CSV file I/O (e.g. pd.read_csv)\n\n# Input data files are available in the \"../input/\" directory.\n# For example, running this (by clicking run or pressing Shift+Enter) will list the files in the input directory\n\nimport os\nprint(os.listdir(\"../input\"))\n\n# Any results you write to the current directory are saved as output.",
      "execution_count": 6,
      "outputs": [
        {
          "output_type": "stream",
          "text": "['train.csv', 'sample_submission.csv', 'test.csv']\n",
          "name": "stdout"
        }
      ]
    },
    {
      "metadata": {
        "_cell_guid": "79c7e3d0-c299-4dcb-8224-4455121ee9b0",
        "_uuid": "d629ff2d2480ee46fbb7e2d37f6b5fab8052498a",
        "trusted": true
      },
      "cell_type": "code",
      "source": "import matplotlib.pyplot as plt\nimport pandas as pd\nimport numpy as np\n\n%matplotlib inline",
      "execution_count": 7,
      "outputs": []
    },
    {
      "metadata": {
        "trusted": true,
        "_uuid": "b3a39ba6855c892572031cda72fb6573d6c7bb8e"
      },
      "cell_type": "code",
      "source": "df = pd.read_csv('../input/train.csv')\ndf_test = pd.read_csv('../input/test.csv')\ndf_sample = pd.read_csv('../input/sample_submission.csv')",
      "execution_count": 8,
      "outputs": []
    },
    {
      "metadata": {
        "trusted": true,
        "_uuid": "d9b61fb40dc02162c922353d9dfdacf373bf1d0e"
      },
      "cell_type": "code",
      "source": "df.head()",
      "execution_count": null,
      "outputs": []
    },
    {
      "metadata": {
        "trusted": true,
        "_uuid": "388221425206eec6e0316b037436d84e772d62c1"
      },
      "cell_type": "code",
      "source": "fig, ax = plt.subplots(figsize=(15, 12))\nax.scatter(df.pickup_longitude.values, df.pickup_latitude.values, s=5, color='red', alpha=0.5)\nax.scatter(df.dropoff_longitude.values, df.dropoff_latitude.values, s=5, color='black', alpha=0.5)\nax.set_xlim([-74.05, -74.00])\nax.set_ylim([40.70, 40.75])",
      "execution_count": null,
      "outputs": []
    },
    {
      "metadata": {
        "trusted": true,
        "_uuid": "e61c56602190bafbc458785abeffe056982256d1"
      },
      "cell_type": "code",
      "source": "df = df.loc[df['pickup_longitude']> -74.02]\ndf = df.loc[df['dropoff_longitude']> -74.02]",
      "execution_count": null,
      "outputs": []
    },
    {
      "metadata": {
        "trusted": true,
        "_uuid": "547ad04e2b0bce4da6143dbf38f17ef14640e664"
      },
      "cell_type": "code",
      "source": "df = df[(df['trip_duration'] > 60) & (df['trip_duration'] < 3600 * 24)]\n\ndf['hour'] = df['pickup_datetime'].apply(lambda x: int(x.split()[1][0:2]))\n\ndf['dist'] = np.sqrt((df['pickup_latitude']-df['dropoff_latitude'])**2 + (df['pickup_longitude']-df['dropoff_longitude'])**2) ",
      "execution_count": null,
      "outputs": []
    },
    {
      "metadata": {
        "trusted": true,
        "_uuid": "4ba5157a63b3d54cae60dfb1442a23099bcd61ed"
      },
      "cell_type": "code",
      "source": "df = df.loc[df['trip_duration']< 1500000]",
      "execution_count": null,
      "outputs": []
    },
    {
      "metadata": {
        "trusted": true,
        "_uuid": "01da1e3c72e1e31ec53ecbedc76a6ca3c5fe3760"
      },
      "cell_type": "code",
      "source": "# choix de la target et des features\n\ny = df[\"trip_duration\"] # <-- target\nX = df[[\"passenger_count\", \"pickup_longitude\", \"pickup_latitude\", \"dropoff_longitude\",\"dropoff_latitude\",\"dist\",\"hour\"]] # <-- features",
      "execution_count": null,
      "outputs": []
    },
    {
      "metadata": {
        "trusted": true,
        "_uuid": "023ebc60fb8232cafbc94c2e20e69ab13bc04b6d"
      },
      "cell_type": "code",
      "source": "# importer la lib pour la regression de Random Forest\n\nfrom sklearn.ensemble import RandomForestRegressor",
      "execution_count": null,
      "outputs": []
    },
    {
      "metadata": {
        "trusted": true,
        "_uuid": "2095ed2d060f7ce7eace2573a6d29d8fe800a37a"
      },
      "cell_type": "code",
      "source": "# declarer le model et l'entrainer\n\nrf = RandomForestRegressor(n_estimators=20)\nrf.fit(X, y)",
      "execution_count": null,
      "outputs": []
    },
    {
      "metadata": {
        "trusted": true,
        "_uuid": "64497fc3f6d4577fc536863e537d7aaf46fb4b5f"
      },
      "cell_type": "code",
      "source": "# importer la lib pour cross valider le model\n\nfrom sklearn.model_selection import cross_val_score",
      "execution_count": null,
      "outputs": []
    },
    {
      "metadata": {
        "trusted": true,
        "_uuid": "e1747d2ba4c53809514eb5ddd25b85b86d9371bc"
      },
      "cell_type": "code",
      "source": "# calculer les scores de cross validation du model selon une decoupe en 5 du dataset de train\n\ncv_scores = cross_val_score(rf,X,y,cv=5,scoring='neg_mean_squared_log_error')",
      "execution_count": null,
      "outputs": []
    },
    {
      "metadata": {
        "trusted": true,
        "_uuid": "9581d5d7fef85fc862d2afb728729da755146192"
      },
      "cell_type": "code",
      "source": "for i in range(len(cv_scores)):\n    cv_scores[i] = np.sqrt(abs(cv_scores[i]))\nprint(np.mean(cv_scores))",
      "execution_count": null,
      "outputs": []
    },
    {
      "metadata": {
        "trusted": true,
        "_uuid": "480792d6e2a7c86c30090226582604f62f9d0900"
      },
      "cell_type": "code",
      "source": "df_test['hour'] = df_test['pickup_datetime'].apply(lambda x: int(x.split()[1][0:2]))\n\ndf_test['dist'] = np.sqrt((df_test['pickup_latitude']-df_test['dropoff_latitude'])**2 + (df_test['pickup_longitude']-df_test['dropoff_longitude'])**2) \ndf_test.head()",
      "execution_count": null,
      "outputs": []
    },
    {
      "metadata": {
        "trusted": true,
        "_uuid": "8f3f37c1101d275e1f681720feb28e6b306f193a"
      },
      "cell_type": "code",
      "source": "X_test = df_test[[\"passenger_count\", \"pickup_longitude\", \"pickup_latitude\", \"dropoff_longitude\",\"dropoff_latitude\",\"dist\",\"hour\"]]\npredicted_duration = rf.predict(X_test)\nprint(predicted_duration)",
      "execution_count": null,
      "outputs": []
    },
    {
      "metadata": {
        "trusted": true,
        "_uuid": "420b1ac25b44bf91e49ff06d600442d1004ee581"
      },
      "cell_type": "code",
      "source": "df_sample.head(3)",
      "execution_count": null,
      "outputs": []
    },
    {
      "metadata": {
        "trusted": true,
        "_uuid": "ce4086c28549857b6649e990706de384709a71f9"
      },
      "cell_type": "code",
      "source": "my_submission = pd.DataFrame({'id': df_test.id, 'trip_duration': predicted_duration})\nprint(my_submission)",
      "execution_count": null,
      "outputs": []
    },
    {
      "metadata": {
        "trusted": true,
        "_uuid": "fb61abb37157a9a6ade7a55e10db6eb5346c888c"
      },
      "cell_type": "code",
      "source": "my_submission.to_csv('submission.csv', index=False)",
      "execution_count": null,
      "outputs": []
    }
  ],
  "metadata": {
    "kernelspec": {
      "display_name": "Python 3",
      "language": "python",
      "name": "python3"
    },
    "language_info": {
      "name": "python",
      "version": "3.6.6",
      "mimetype": "text/x-python",
      "codemirror_mode": {
        "name": "ipython",
        "version": 3
      },
      "pygments_lexer": "ipython3",
      "nbconvert_exporter": "python",
      "file_extension": ".py"
    }
  },
  "nbformat": 4,
  "nbformat_minor": 1
}